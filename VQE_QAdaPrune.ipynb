{
 "cells": [
  {
   "cell_type": "markdown",
   "id": "1265bc6e-81c2-4a2d-84d2-0c5ae88458e2",
   "metadata": {},
   "source": [
    "# QAdaPrune for VQE\n",
    "\n",
    "This notebook implements the QAdaPrune algorithm for running VQE problems with a UCCSD ansatz."
   ]
  },
  {
   "cell_type": "code",
   "execution_count": 1,
   "id": "19b38e69-bc4b-437a-92df-abda63e05a9f",
   "metadata": {},
   "outputs": [],
   "source": [
    "import pennylane as qml\n",
    "import pennylane.numpy as qnp\n",
    "import numpy as np\n",
    "\n",
    "import matplotlib.pyplot as plt\n",
    "from matplotlib import rc\n",
    "\n",
    "rc('text', usetex=True)\n",
    "rc('font', **{'family': 'serif', 'serif': ['Computer Modern']})\n",
    "\n",
    "%load_ext autoreload\n",
    "%autoreload 2\n",
    "%matplotlib inline"
   ]
  },
  {
   "cell_type": "code",
   "execution_count": 2,
   "id": "c4be6c95-5be7-4f88-80c2-32ed0ca9fc96",
   "metadata": {},
   "outputs": [
    {
     "name": "stdout",
     "output_type": "stream",
     "text": [
      "Qubits =>  4\n",
      "Hamiltonian:    (-0.24274501260969783) [Z3]\n",
      "+ (-0.24274501260969777) [Z2]\n",
      "+ (-0.04207255194718823) [I0]\n",
      "+ (0.17771358229074435) [Z1]\n",
      "+ (0.17771358229074438) [Z0]\n",
      "+ (0.12293330449308097) [Z0 Z2]\n",
      "+ (0.12293330449308097) [Z1 Z3]\n",
      "+ (0.16768338855613268) [Z0 Z3]\n",
      "+ (0.16768338855613268) [Z1 Z2]\n",
      "+ (0.1705975927684062) [Z0 Z1]\n",
      "+ (0.17627661394202926) [Z2 Z3]\n",
      "+ (-0.04475008406305173) [Y0 Y1 X2 X3]\n",
      "+ (-0.04475008406305173) [X0 X1 Y2 Y3]\n",
      "+ (0.04475008406305173) [Y0 X1 X2 Y3]\n",
      "+ (0.04475008406305173) [X0 Y1 Y2 X3]\n"
     ]
    }
   ],
   "source": [
    "symbols = [\"H\", \"H\"]\n",
    "coordinates = np.array([0.0, 0.0, -0.6614, 0.0, 0.0, 0.6614])\n",
    "H, qubits = qml.qchem.molecular_hamiltonian(symbols, coordinates)\n",
    "print(\"Qubits => \", qubits)\n",
    "print(\"Hamiltonian: \", H)"
   ]
  },
  {
   "cell_type": "code",
   "execution_count": 3,
   "id": "7acc4247-c8b1-4b31-aada-5dc758a9daf2",
   "metadata": {},
   "outputs": [
    {
     "data": {
      "text/plain": [
       "tensor([1, 1, 0, 0], requires_grad=True)"
      ]
     },
     "execution_count": 3,
     "metadata": {},
     "output_type": "execute_result"
    }
   ],
   "source": [
    "electrons = 2\n",
    "# orbitals = 7\n",
    "hf_state = qml.qchem.hf_state(electrons, qubits)\n",
    "hf_state"
   ]
  },
  {
   "cell_type": "code",
   "execution_count": 4,
   "id": "60f73857-a430-48f2-9304-85de47de5819",
   "metadata": {},
   "outputs": [],
   "source": [
    "singles, doubles = qml.qchem.excitations(electrons, qubits)\n",
    "s_wires, d_wires = qml.qchem.excitations_to_wires(singles, doubles)"
   ]
  },
  {
   "cell_type": "code",
   "execution_count": 22,
   "id": "5b24718c-b823-49c0-8879-1adbede472f3",
   "metadata": {},
   "outputs": [],
   "source": [
    "dev = qml.device('default.qubit', wires=qubits)\n",
    "@qml.qnode(dev, interface='autograd', diff_method='parameter-shift')\n",
    "def ckt(weights):\n",
    "    qml.UCCSD(weights, \n",
    "              wires=list(range(qubits)), \n",
    "              s_wires=s_wires,\n",
    "              d_wires=d_wires, init_state=hf_state)\n",
    "    return qml.expval(H)"
   ]
  },
  {
   "cell_type": "code",
   "execution_count": 30,
   "id": "d82bf577-6d4e-46f3-8525-80c6d104a138",
   "metadata": {},
   "outputs": [],
   "source": [
    "weights = qnp.random.normal(0, np.pi, 3)"
   ]
  },
  {
   "cell_type": "code",
   "execution_count": 24,
   "id": "3c38f36e-8f87-47da-85cd-13785ff85d28",
   "metadata": {
    "collapsed": true,
    "jupyter": {
     "outputs_hidden": true
    },
    "tags": []
   },
   "outputs": [
    {
     "name": "stdout",
     "output_type": "stream",
     "text": [
      "0: ─╭BasisState(M0)──H─────────╭●───────────────────────╭●──────────H──────────RX(-1.57)─╭●──────\n",
      "1: ─├BasisState(M0)──H─────────╰X─╭●─────────────────╭●─╰X──────────H──────────H─────────╰X─╭●───\n",
      "2: ─├BasisState(M0)──RX(-1.57)────╰X─╭●───────────╭●─╰X──RX(1.57)───RX(-1.57)───────────────╰X─╭●\n",
      "3: ─╰BasisState(M0)──H───────────────╰X──RZ(0.37)─╰X──H──RX(-1.57)─────────────────────────────╰X\n",
      "\n",
      "─────────────────────────╭●──────────RX(1.57)───H─────────╭●──────────────────────────────╭●────────\n",
      "───────────────╭●────────╰X──────────H──────────RX(-1.57)─╰X─╭●─────────────────╭●────────╰X────────\n",
      "────────────╭●─╰X─────────RX(1.57)───RX(-1.57)───────────────╰X─╭●───────────╭●─╰X─────────RX(1.57)─\n",
      "───RZ(0.37)─╰X──RX(1.57)──RX(-1.57)─────────────────────────────╰X──RZ(0.37)─╰X──RX(1.57)──RX(-1.57)\n",
      "\n",
      "───H─────────H─╭●──────────────────────────────╭●──H──RX(-1.57)─╭●────────────────────────╭●\n",
      "───RX(1.57)──H─╰X─╭●─────────────────╭●────────╰X──H──H─────────╰X─╭●──────────────────╭●─╰X\n",
      "───H──────────────╰X─╭●───────────╭●─╰X─────────H──H───────────────╰X─╭●────────────╭●─╰X──H\n",
      "─────────────────────╰X──RZ(0.37)─╰X──RX(1.57)──H─────────────────────╰X──RZ(-0.37)─╰X──H──H\n",
      "\n",
      "───RX(1.57)──H─────────╭●────────────────────────╭●──H──────────RX(-1.57)─╭●───────────────────────\n",
      "───H─────────RX(-1.57)─╰X─╭●──────────────────╭●─╰X──RX(1.57)───RX(-1.57)─╰X─╭●──────────────────╭●\n",
      "───H──────────────────────╰X─╭●────────────╭●─╰X──H──RX(-1.57)───────────────╰X─╭●────────────╭●─╰X\n",
      "─────────────────────────────╰X──RZ(-0.37)─╰X──H──H─────────────────────────────╰X──RZ(-0.37)─╰X──H\n",
      "\n",
      "──╭●──────────RX(1.57)──RX(-1.57)─╭●───────────────────────────────╭●──RX(1.57)──RX(-1.57)─╭●───\n",
      "──╰X──────────RX(1.57)──RX(-1.57)─╰X─╭●──────────────────╭●────────╰X──RX(1.57)────────────╰X─╭●\n",
      "───RX(1.57)───H──────────────────────╰X─╭●────────────╭●─╰X─────────H──H──────────────────────╰X\n",
      "───RX(-1.57)────────────────────────────╰X──RZ(-0.37)─╰X──RX(1.57)──H───────────────────────────\n",
      "\n",
      "───────────────╭●──RX(1.57)───H─╭●──────────────────╭●─────────H──────────────────────────────\n",
      "────────────╭●─╰X───────────────╰X─╭●────────────╭●─╰X─────────RX(-1.57)─╭●─────────────────╭●\n",
      "───RZ(1.57)─╰X──H──RX(-1.57)───────╰X──RZ(-1.57)─╰X──RX(1.57)────────────╰X─╭●───────────╭●─╰X\n",
      "────────────────────────────────────────────────────────────────────────────╰X──RZ(1.57)─╰X──H\n",
      "\n",
      "─────────────────────────────────────────────────┤ ╭<𝓗>\n",
      "───RX(1.57)───H─╭●──────────────────╭●─────────H─┤ ├<𝓗>\n",
      "────────────────╰X─╭●────────────╭●─╰X───────────┤ ├<𝓗>\n",
      "───RX(-1.57)───────╰X──RZ(-1.57)─╰X──RX(1.57)────┤ ╰<𝓗>\n"
     ]
    }
   ],
   "source": [
    "print(qml.draw(ckt, expansion_strategy='device')(weights))"
   ]
  },
  {
   "cell_type": "code",
   "execution_count": 23,
   "id": "9aa3ba95-73b1-4403-aa58-cabc335479dc",
   "metadata": {
    "collapsed": true,
    "jupyter": {
     "outputs_hidden": true
    },
    "tags": []
   },
   "outputs": [
    {
     "data": {
      "text/plain": [
       "{'gate_sizes': defaultdict(int, {4: 2, 3: 2}),\n",
       " 'gate_types': defaultdict(int,\n",
       "             {'BasisState': 1,\n",
       "              'FermionicDoubleExcitation': 1,\n",
       "              'FermionicSingleExcitation': 2}),\n",
       " 'num_operations': 4,\n",
       " 'num_observables': 1,\n",
       " 'num_diagonalizing_gates': 0,\n",
       " 'num_used_wires': 4,\n",
       " 'depth': 4,\n",
       " 'num_trainable_params': 3,\n",
       " 'num_device_wires': 4,\n",
       " 'device_name': 'default.qubit',\n",
       " 'expansion_strategy': 'gradient',\n",
       " 'gradient_options': {},\n",
       " 'interface': 'autograd',\n",
       " 'diff_method': 'parameter-shift',\n",
       " 'gradient_fn': 'pennylane.gradients.parameter_shift.param_shift',\n",
       " 'num_gradient_executions': 12}"
      ]
     },
     "execution_count": 23,
     "metadata": {},
     "output_type": "execute_result"
    }
   ],
   "source": [
    "qml.specs(ckt)(weights)"
   ]
  },
  {
   "cell_type": "code",
   "execution_count": 36,
   "id": "0555ba47-3ac2-4d43-8a98-e943b7bc7f7c",
   "metadata": {
    "collapsed": true,
    "jupyter": {
     "outputs_hidden": true
    },
    "tags": []
   },
   "outputs": [
    {
     "name": "stdout",
     "output_type": "stream",
     "text": [
      "Gradient:  [ 0.17560253 -0.14987952  0.15880275]\n",
      "Softmax weights:  [0.36961476 0.26692807 0.36345718]\n",
      "After update:  [ 0.11069724 -0.10987247  0.10108475]\n",
      "Gradient:  [ 0.12322193 -0.14941906  0.14874242]\n",
      "Softmax weights:  [0.35878108 0.27316374 0.36805518]\n",
      "After update:  [ 0.07901223 -0.10860319  0.093997  ]\n",
      "Gradient:  [ 0.08064547 -0.14845407  0.13361699]\n",
      "Softmax weights:  [0.35092041 0.27906924 0.37001035]\n",
      "After update:  [ 0.05234533 -0.10702511  0.08417732]\n",
      "Gradient:  [ 0.04731408 -0.14719226  0.11512829]\n",
      "Softmax weights:  [0.34561327 0.284523   0.36986373]\n",
      "After update:  [ 0.0309617  -0.10531268  0.07254651]\n",
      "Gradient:  [ 0.02183029 -0.14592417  0.09448001]\n",
      "Softmax weights:  [0.34235845 0.2894851  0.36815646]\n",
      "After update:  [ 0.0143565  -0.1036813   0.05969658]\n",
      "Gradient:  [ 0.00264735 -0.14509988  0.07255114]\n",
      "Softmax weights:  [0.34070922 0.29391251 0.36537827]\n",
      "After update:  [ 0.00174537 -0.10245321  0.04604253]\n",
      "Gradient:  [-0.01161383 -0.14529786  0.04997056]\n",
      "Softmax weights:  [0.3403228  0.29773701 0.36194019]\n",
      "After update:  [-0.00766138 -0.10203731  0.03188421]\n",
      "Gradient:  [-0.02206786 -0.14714756  0.02713097]\n",
      "Softmax weights:  [0.3409646  0.30087623 0.35815917]\n",
      "After update:  [-0.0145435  -0.10287435  0.01741376]\n",
      "Gradient:  [-0.02956842 -0.1512566   0.00419571]\n",
      "Softmax weights:  [0.34249331 0.30325194 0.35425474]\n",
      "After update:  [-0.01944143 -0.10538774  0.00270936]\n",
      "Gradient:  [-0.03474457 -0.15816271 -0.01887203]\n",
      "Softmax weights:  [0.34484029 0.30480226 0.35035745]\n",
      "After update:  [-0.02276325 -0.10995436 -0.01226008]\n",
      "Gradient:  [-0.03803767 -0.16830304 -0.04224812]\n",
      "Softmax weights:  [0.34798818 0.30548575 0.34652607]\n",
      "After update:  [-0.02480101 -0.11688886 -0.02760805]\n",
      "Gradient:  [-0.0397263  -0.1819757  -0.06615057]\n",
      "Softmax weights:  [0.35194826 0.30528165 0.34277009]\n",
      "After update:  [-0.0257447  -0.12642186 -0.04347613]\n",
      "Gradient:  [-0.03993617 -0.19925991 -0.09069743]\n",
      "Softmax weights:  [0.35673187 0.30419249 0.33907563]\n",
      "After update:  [-0.02568967 -0.13864654 -0.05994414]\n",
      "Gradient:  [-0.03863745 -0.21985962 -0.11570393]\n",
      "Softmax weights:  [0.36230856 0.30225591 0.33543552]\n",
      "After update:  [-0.02463877 -0.15340575 -0.07689272]\n",
      "Gradient:  [-0.03563968 -0.2428494  -0.1404119 ]\n",
      "Softmax weights:  [0.3685442  0.29957084 0.33188496]\n",
      "After update:  [-0.02250488 -0.1700988  -0.0938113 ]\n",
      "Gradient:  [-0.030608   -0.26635404 -0.16319355]\n",
      "Softmax weights:  [0.37512061 0.29633826 0.32854113]\n",
      "After update:  [-0.01912631 -0.18742315 -0.10957776]\n",
      "Gradient:  [-0.02314446 -0.28731747 -0.18138867]\n",
      "Softmax weights:  [0.38146362 0.29290329 0.32563309]\n",
      "After update:  [-0.01431569 -0.20316124 -0.12232252]\n",
      "Gradient:  [-0.01298637 -0.30169425 -0.19159289]\n",
      "Softmax weights:  [0.38674755 0.28976327 0.32348917]\n",
      "After update:  [-0.00796392 -0.21427433 -0.12961466]\n",
      "Gradient:  [-0.00032156 -0.30543947 -0.19071789]\n",
      "Softmax weights:  [0.39006612 0.28749296 0.32244092]\n",
      "After update:  [-1.96130272e-04 -2.17627771e-01 -1.29222637e-01]\n",
      "Gradient:  [ 0.01393165 -0.29622068 -0.17765284]\n",
      "Softmax weights:  [0.39077992 0.28657269 0.32264739]\n",
      "After update:  [ 0.00848744 -0.21133192 -0.12033361]\n",
      "Gradient:  [ 0.02817057 -0.27485011 -0.15445231]\n",
      "Softmax weights:  [0.38885297 0.28720051 0.32394652]\n",
      "After update:  [ 0.01721636 -0.19591302 -0.10441802]\n",
      "Gradient:  [ 0.04061691 -0.24511909 -0.12579348]\n",
      "Softmax weights:  [0.38488782 0.28922817 0.32588401]\n",
      "After update:  [ 0.02498396 -0.17422374 -0.0847994 ]\n",
      "Gradient:  [ 0.0499821  -0.21198797 -0.09687324]\n",
      "Softmax weights:  [0.3798017  0.29227034 0.32792795]\n",
      "After update:  [ 0.03099881 -0.15003017 -0.0651058 ]\n",
      "Gradient:  [ 0.0558068  -0.17960873 -0.07141874]\n",
      "Softmax weights:  [0.37442281 0.29588478 0.32969241]\n",
      "After update:  [ 0.03491146 -0.12646524 -0.04787252]\n",
      "Gradient:  [ 0.05834552 -0.15044094 -0.05105249]\n",
      "Softmax weights:  [0.36928411 0.29969936 0.33101652]\n",
      "After update:  [ 0.03679945 -0.10535389 -0.03415327]\n",
      "Gradient:  [ 0.05823819 -0.12542659 -0.03578854]\n",
      "Softmax weights:  [0.36463438 0.3034541  0.33191152]\n",
      "After update:  [ 0.03700254 -0.08736538 -0.02390991]\n",
      "Gradient:  [ 0.05622013 -0.10456041 -0.02483232]\n",
      "Softmax weights:  [0.3605391  0.30699145 0.33246945]\n",
      "After update:  [ 0.03595057 -0.07246126 -0.01657633]\n",
      "Gradient:  [ 0.05295649 -0.08739188 -0.0171768 ]\n",
      "Softmax weights:  [0.35697393 0.31023014 0.33279593]\n",
      "After update:  [ 0.0340524  -0.06028029 -0.01146043]\n",
      "Gradient:  [ 0.04897903 -0.0733343  -0.01190677]\n",
      "Softmax weights:  [0.35388187 0.31313983 0.33297831]\n",
      "After update:  [ 0.03164624 -0.05037041 -0.00794208]\n",
      "Gradient:  [ 0.04468055 -0.06181715 -0.00830103]\n",
      "Softmax weights:  [0.35120072 0.31572141 0.33307788]\n",
      "After update:  [ 0.02898871 -0.04230015 -0.00553614]\n"
     ]
    }
   ],
   "source": [
    "def softmax(x):\n",
    "    return np.exp(x) / np.sum(np.exp(x))\n",
    "\n",
    "for g in grad_hist:\n",
    "    print(\"Gradient: \", g)\n",
    "    g_up = g - g * softmax(g)\n",
    "    print(\"Softmax weights: \", softmax(g))\n",
    "    print(\"After update: \", g_up)"
   ]
  },
  {
   "cell_type": "code",
   "execution_count": 47,
   "id": "003bd8b7-c92c-4ff5-98af-5fe30f4424b9",
   "metadata": {},
   "outputs": [],
   "source": [
    "# if I wasn't hard pressed for time this wouldn't happen...\n",
    "def optimize_and_prune(opt, ckt, weights, steps=30, win_sz=5, tol=0.001):\n",
    "    tweights = weights.copy()\n",
    "    tweights.requires_grad = True\n",
    "    energy_hist = []\n",
    "    \n",
    "    gfn = qml.grad(ckt, argnum=0)\n",
    "    tau = qnp.ones(tweights.size, requires_grad=False) * 1/tweights.size\n",
    "    prev_idx, idx = None, None\n",
    "    gbuffer = np.zeros(tweights.size)\n",
    "    igrad = gfn(tweights)\n",
    "    gbuffer = np.abs(gbuffer - igrad)\n",
    "    for i in range(steps):\n",
    "        tweights, energy = opt.step_and_cost(ckt, tweights)\n",
    "        if idx is not None:\n",
    "            tweights[idx] = 0\n",
    "        energy_hist.append(energy)\n",
    "        grad = gfn(tweights)\n",
    "        tau = tau - tau * softmax(grad)\n",
    "        gbuffer = np.abs(gbuffer - grad)\n",
    "        if i != 0 and i % win_sz == 0:\n",
    "            idx = build_saliency(gbuffer, tau)\n",
    "            if not idx and prev_idx:\n",
    "                idx = prev_idx\n",
    "            print(f\"Dropping {idx} for threshold {tau}\")\n",
    "            tweights[idx] = 0\n",
    "            prev_idx = idx\n",
    "        if i % 2 == 0:\n",
    "            print(f\"Step: {i}, Energy: {energy} Ha\")\n",
    "        \n",
    "        # conv = np.abs(energy_hist[-1] - energy)\n",
    "        # if conv <= tol:\n",
    "        #     break\n",
    "    return energy_hist"
   ]
  },
  {
   "cell_type": "code",
   "execution_count": 41,
   "id": "7ba2db32-c348-4f35-9bef-fb74a475aab7",
   "metadata": {},
   "outputs": [],
   "source": [
    "def build_saliency(grad_buffer, thresh_vec):\n",
    "    gbuf = grad_buffer.flatten()\n",
    "    prune_idx = []\n",
    "    for i, g in enumerate(gbuf):\n",
    "        if g < thresh_vec[i]:\n",
    "            prune_idx.append(i)\n",
    "    return prune_idx"
   ]
  },
  {
   "cell_type": "code",
   "execution_count": 50,
   "id": "f09906dc-1bf4-4d4c-b0d7-f462d1af6caf",
   "metadata": {},
   "outputs": [],
   "source": [
    "iwts = qnp.random.normal(0, np.pi, 3, requires_grad=False)\n",
    "opt_new = qml.GradientDescentOptimizer(stepsize=0.5)"
   ]
  },
  {
   "cell_type": "code",
   "execution_count": 51,
   "id": "72281df0-04e0-491b-a4c0-ca98324bafba",
   "metadata": {},
   "outputs": [
    {
     "name": "stdout",
     "output_type": "stream",
     "text": [
      "Step: 0, Energy: -0.6861072929620893 Ha\n",
      "Step: 2, Energy: -0.9916299945609333 Ha\n",
      "Step: 4, Energy: -1.0945635590038343 Ha\n",
      "Dropping [0, 2] for threshold [0.03975597 0.02532095 0.02448822]\n",
      "Step: 6, Energy: -1.1010620197023109 Ha\n",
      "Step: 8, Energy: -1.110726119466513 Ha\n",
      "Dropping [0] for threshold [0.00458601 0.00265335 0.00453955]\n",
      "Step: 10, Energy: -1.1146800353933717 Ha\n",
      "Step: 12, Energy: -1.128835175823976 Ha\n",
      "Step: 14, Energy: -1.135083340543473 Ha\n",
      "Dropping [0] for threshold [0.00058379 0.00032746 0.00065852]\n",
      "Step: 16, Energy: -1.1359529562553068 Ha\n",
      "Step: 18, Energy: -1.136119847667498 Ha\n",
      "Dropping [0] for threshold [7.67758060e-05 4.26754474e-05 8.77410163e-05]\n",
      "Step: 20, Energy: -1.1361653084842642 Ha\n",
      "Step: 22, Energy: -1.1361804779882578 Ha\n",
      "Step: 24, Energy: -1.1361859458897214 Ha\n",
      "Dropping [0] for threshold [1.01118499e-05 5.60574479e-06 1.15816841e-05]\n",
      "Step: 26, Energy: -1.1361879651375786 Ha\n",
      "Step: 28, Energy: -1.1361887161550972 Ha\n"
     ]
    }
   ],
   "source": [
    "energy_hist_prune = optimize_and_prune(opt_new, ckt, iwts)"
   ]
  },
  {
   "cell_type": "code",
   "execution_count": 53,
   "id": "85ea0932-7506-41a1-bbbb-ff7daa6df4b9",
   "metadata": {
    "tags": []
   },
   "outputs": [
    {
     "name": "stdout",
     "output_type": "stream",
     "text": [
      "Step -> 0, Energy: -0.6861072929620893 Ha\n",
      "Step -> 2, Energy: -0.9916299945609333 Ha\n",
      "Step -> 4, Energy: -1.0945635590038343 Ha\n",
      "Step -> 6, Energy: -1.1203712415589118 Ha\n",
      "Step -> 8, Energy: -1.1285547029474723 Ha\n",
      "Step -> 10, Energy: -1.132092249935285 Ha\n",
      "Step -> 12, Energy: -1.1339016528803993 Ha\n",
      "Step -> 14, Energy: -1.1348926944765931 Ha\n",
      "Step -> 16, Energy: -1.1354500658921975 Ha\n",
      "Step -> 18, Energy: -1.135766822558795 Ha\n",
      "Step -> 20, Energy: -1.1359475938314982 Ha\n",
      "Step -> 22, Energy: -1.1360509359134219 Ha\n",
      "Step -> 24, Energy: -1.136110055562595 Ha\n",
      "Step -> 26, Energy: -1.1361438865108555 Ha\n",
      "Step -> 28, Energy: -1.1361632485092963 Ha\n"
     ]
    }
   ],
   "source": [
    "opt = qml.GradientDescentOptimizer(stepsize=0.5)\n",
    "# params = qnp.zeros(len(singles) + len(doubles), requires_grad=True)\n",
    "energy_hist = []\n",
    "grad_hist = []\n",
    "weights = iwts.copy()\n",
    "weights.requires_grad = True\n",
    "for i in range(30):\n",
    "    weights, energy = opt.step_and_cost(ckt, weights)\n",
    "    energy_hist.append(energy)\n",
    "    if i % 2 == 0:\n",
    "        print(f\"Step -> {i}, Energy: {energy} Ha\")\n",
    "    "
   ]
  },
  {
   "cell_type": "code",
   "execution_count": 81,
   "id": "1d15edd9-d126-4b7a-96f3-f0fe8a4f6cf8",
   "metadata": {},
   "outputs": [
    {
     "data": {
      "image/png": "[encoded data removed]",
      "text/plain": [
       "<Figure size 640x480 with 1 Axes>"
      ]
     },
     "metadata": {},
     "output_type": "display_data"
    }
   ],
   "source": [
    "plt.text(5.5, -1.0, 'Sparsity: 33\\%')\n",
    "plt.plot(np.arange(len(energy_hist_prune)), energy_hist_prune, '-.', c='firebrick', label='UCCSD w/Pruning')\n",
    "plt.plot(np.arange(len(energy_hist)), energy_hist, c='seagreen', alpha=0.5, label='UCCSD w/o Pruning')\n",
    "plt.legend()\n",
    "\n",
    "plt.xlabel('Steps')\n",
    "plt.ylabel(r'$E(Hartree)$')\n",
    "plt.savefig('vqe_uccsd_param_pruning.pdf', dpi=300, bbox_inches='tight')"
   ]
  },
  {
   "cell_type": "code",
   "execution_count": null,
   "id": "4bf7447d-0f5d-436d-b581-dcef6b65232b",
   "metadata": {},
   "outputs": [],
   "source": []
  }
 ],
 "metadata": {
  "kernelspec": {
   "display_name": "qml",
   "language": "python",
   "name": "qml"
  },
  "language_info": {
   "codemirror_mode": {
    "name": "ipython",
    "version": 3
   },
   "file_extension": ".py",
   "mimetype": "text/x-python",
   "name": "python",
   "nbconvert_exporter": "python",
   "pygments_lexer": "ipython3",
   "version": "3.10.9"
  }
 },
 "nbformat": 4,
 "nbformat_minor": 5
}
